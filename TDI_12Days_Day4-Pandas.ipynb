{
 "cells": [
  {
   "cell_type": "markdown",
   "metadata": {
    "id": "ATSoLyn5j6SN"
   },
   "source": [
    "### Milestone Action Items\n",
    "\n",
    "Download the data set about[ Value of Energy Cost Saving Program for businesses in New York City](https://data.cityofnewyork.us/City-Government/Value-of-Energy-Cost-Savings-Program-Savings-for-B/bug8-9f3g) (under the \"Export\" option, there is a way to retrieve a CSV file). Answer the following questions.\n",
    "\n",
    "1. How many different companies are represented in the data set?\n",
    "2. What is the total number of jobs created for businesses in Queens?\n",
    "3. How many different unique email domains names are there in the data set?\n",
    "4. Considering only NTAs with at least 5 listed businesses, what is the average total savings and the total jobs created for each NTA?\n",
    "5. Save your result for the previous question as a CSV file."
   ]
  },
  {
   "cell_type": "code",
   "execution_count": 1,
   "metadata": {
    "colab": {
     "base_uri": "https://localhost:8080/"
    },
    "executionInfo": {
     "elapsed": 9776,
     "status": "ok",
     "timestamp": 1652985099409,
     "user": {
      "displayName": "Chia-Hsuan Yang",
      "userId": "10923030406715246396"
     },
     "user_tz": 240
    },
    "id": "xDlC4CNijr8J",
    "outputId": "7e871349-b7fa-4747-fa40-7a4325fa97a2"
   },
   "outputs": [],
   "source": [
    "#from google.colab import drive\n",
    "#drive.mount('/content/drive')"
   ]
  },
  {
   "cell_type": "code",
   "execution_count": 2,
   "metadata": {
    "colab": {
     "base_uri": "https://localhost:8080/"
    },
    "executionInfo": {
     "elapsed": 477,
     "status": "ok",
     "timestamp": 1652985531961,
     "user": {
      "displayName": "Chia-Hsuan Yang",
      "userId": "10923030406715246396"
     },
     "user_tz": 240
    },
    "id": "oD8QcR9gnLRE",
    "outputId": "2d01ded7-c0c7-4062-c8c8-9441d457d805"
   },
   "outputs": [],
   "source": [
    "#!ls 'drive/MyDrive/Colab Notebooks/TDI'"
   ]
  },
  {
   "cell_type": "code",
   "execution_count": 3,
   "metadata": {
    "executionInfo": {
     "elapsed": 861,
     "status": "ok",
     "timestamp": 1652985596525,
     "user": {
      "displayName": "Chia-Hsuan Yang",
      "userId": "10923030406715246396"
     },
     "user_tz": 240
    },
    "id": "g7WHNzc3nlYK"
   },
   "outputs": [],
   "source": [
    "import pandas as pd"
   ]
  },
  {
   "cell_type": "code",
   "execution_count": 4,
   "metadata": {
    "executionInfo": {
     "elapsed": 137,
     "status": "ok",
     "timestamp": 1652985606682,
     "user": {
      "displayName": "Chia-Hsuan Yang",
      "userId": "10923030406715246396"
     },
     "user_tz": 240
    },
    "id": "krQYBhaTltuM"
   },
   "outputs": [],
   "source": [
    "#vecsp_2020 = pd.read_csv('drive/MyDrive/Colab Notebooks/TDI/Value_of_Energy_Cost_Savings_Program_Savings_for_Businesses_-_FY2020.csv')\n",
    "vecsp_2020 = pd.read_csv('Value_of_Energy_Cost_Savings_Program_Savings_for_Businesses_-_FY2020.csv')"
   ]
  },
  {
   "cell_type": "code",
   "execution_count": 5,
   "metadata": {
    "colab": {
     "base_uri": "https://localhost:8080/",
     "height": 646
    },
    "executionInfo": {
     "elapsed": 158,
     "status": "ok",
     "timestamp": 1652985629047,
     "user": {
      "displayName": "Chia-Hsuan Yang",
      "userId": "10923030406715246396"
     },
     "user_tz": 240
    },
    "id": "TkLxE_ljnsnj",
    "outputId": "29437b73-3505-4483-b6e3-a7bb77c8ed25"
   },
   "outputs": [
    {
     "data": {
      "text/html": [
       "<div>\n",
       "<style scoped>\n",
       "    .dataframe tbody tr th:only-of-type {\n",
       "        vertical-align: middle;\n",
       "    }\n",
       "\n",
       "    .dataframe tbody tr th {\n",
       "        vertical-align: top;\n",
       "    }\n",
       "\n",
       "    .dataframe thead th {\n",
       "        text-align: right;\n",
       "    }\n",
       "</style>\n",
       "<table border=\"1\" class=\"dataframe\">\n",
       "  <thead>\n",
       "    <tr style=\"text-align: right;\">\n",
       "      <th></th>\n",
       "      <th>Company Name</th>\n",
       "      <th>company contact</th>\n",
       "      <th>company email</th>\n",
       "      <th>company phone</th>\n",
       "      <th>Address</th>\n",
       "      <th>City</th>\n",
       "      <th>State</th>\n",
       "      <th>Postcode</th>\n",
       "      <th>Industry</th>\n",
       "      <th>Industry descr</th>\n",
       "      <th>...</th>\n",
       "      <th>Savings from beginning receiving benefits</th>\n",
       "      <th>Borough</th>\n",
       "      <th>Latitude</th>\n",
       "      <th>Longitude</th>\n",
       "      <th>Community Board</th>\n",
       "      <th>Council District</th>\n",
       "      <th>Census Tract</th>\n",
       "      <th>BIN</th>\n",
       "      <th>BBL</th>\n",
       "      <th>NTA</th>\n",
       "    </tr>\n",
       "  </thead>\n",
       "  <tbody>\n",
       "    <tr>\n",
       "      <th>0</th>\n",
       "      <td>1 State Street</td>\n",
       "      <td>David Neiburg</td>\n",
       "      <td>eskoblo@energyspec.com</td>\n",
       "      <td>7186779077</td>\n",
       "      <td>1114 Avenue J</td>\n",
       "      <td>Brooklyn</td>\n",
       "      <td>NY</td>\n",
       "      <td>11230</td>\n",
       "      <td>Commercial</td>\n",
       "      <td>35 story building</td>\n",
       "      <td>...</td>\n",
       "      <td>349.78</td>\n",
       "      <td>Brooklyn</td>\n",
       "      <td>40.624784</td>\n",
       "      <td>-73.964920</td>\n",
       "      <td>314.0</td>\n",
       "      <td>44.0</td>\n",
       "      <td>534.0</td>\n",
       "      <td>3179818.0</td>\n",
       "      <td>3.067130e+09</td>\n",
       "      <td>Midwood</td>\n",
       "    </tr>\n",
       "    <tr>\n",
       "      <th>1</th>\n",
       "      <td>100 Church LLC</td>\n",
       "      <td>Edward A. Carroll</td>\n",
       "      <td>NaN</td>\n",
       "      <td>2125663000</td>\n",
       "      <td>100 Church Street</td>\n",
       "      <td>NY</td>\n",
       "      <td>NY</td>\n",
       "      <td>10007</td>\n",
       "      <td>Commercial</td>\n",
       "      <td>21 Floors</td>\n",
       "      <td>...</td>\n",
       "      <td>4423698.05</td>\n",
       "      <td>New York</td>\n",
       "      <td>40.712968</td>\n",
       "      <td>-74.009490</td>\n",
       "      <td>101.0</td>\n",
       "      <td>1.0</td>\n",
       "      <td>21.0</td>\n",
       "      <td>1001409.0</td>\n",
       "      <td>1.001250e+09</td>\n",
       "      <td>SoHo-TriBeCa-Civic Center-Little Italy</td>\n",
       "    </tr>\n",
       "    <tr>\n",
       "      <th>2</th>\n",
       "      <td>100 Wall Investments</td>\n",
       "      <td>Jerry Branam</td>\n",
       "      <td>NaN</td>\n",
       "      <td>2122487160</td>\n",
       "      <td>96 Wall Street</td>\n",
       "      <td>New York</td>\n",
       "      <td>NY</td>\n",
       "      <td>10005</td>\n",
       "      <td>Landlord</td>\n",
       "      <td>NaN</td>\n",
       "      <td>...</td>\n",
       "      <td>1814542.62</td>\n",
       "      <td>New York</td>\n",
       "      <td>40.705052</td>\n",
       "      <td>-74.007199</td>\n",
       "      <td>101.0</td>\n",
       "      <td>1.0</td>\n",
       "      <td>7.0</td>\n",
       "      <td>1000875.0</td>\n",
       "      <td>1.000380e+09</td>\n",
       "      <td>Battery Park City-Lower Manhattan</td>\n",
       "    </tr>\n",
       "    <tr>\n",
       "      <th>3</th>\n",
       "      <td>1-10 Bush Terminal Owner LP</td>\n",
       "      <td>Andrew Kimball</td>\n",
       "      <td>akimball@industrycity.com</td>\n",
       "      <td>3474178429</td>\n",
       "      <td>220 36th St, Suite 2A</td>\n",
       "      <td>Brooklyn</td>\n",
       "      <td>NY</td>\n",
       "      <td>11232</td>\n",
       "      <td>Landlord</td>\n",
       "      <td>Special Eligible Premises for eligible businesses</td>\n",
       "      <td>...</td>\n",
       "      <td>6755.31</td>\n",
       "      <td>Brooklyn</td>\n",
       "      <td>40.656061</td>\n",
       "      <td>-74.007334</td>\n",
       "      <td>307.0</td>\n",
       "      <td>38.0</td>\n",
       "      <td>2.0</td>\n",
       "      <td>3398687.0</td>\n",
       "      <td>3.006950e+09</td>\n",
       "      <td>Sunset Park West</td>\n",
       "    </tr>\n",
       "    <tr>\n",
       "      <th>4</th>\n",
       "      <td>120 Broadway Acquisitions JV, LLC (Ldmk)</td>\n",
       "      <td>Carl Letich</td>\n",
       "      <td>clettich@silvprop.com</td>\n",
       "      <td>2124064020</td>\n",
       "      <td>120 Broadway</td>\n",
       "      <td>New York</td>\n",
       "      <td>NY</td>\n",
       "      <td>10271</td>\n",
       "      <td>Commercial</td>\n",
       "      <td>NaN</td>\n",
       "      <td>...</td>\n",
       "      <td>3293055.08</td>\n",
       "      <td>New York</td>\n",
       "      <td>40.708546</td>\n",
       "      <td>-74.011041</td>\n",
       "      <td>101.0</td>\n",
       "      <td>1.0</td>\n",
       "      <td>7.0</td>\n",
       "      <td>1001026.0</td>\n",
       "      <td>1.000478e+09</td>\n",
       "      <td>Battery Park City-Lower Manhattan</td>\n",
       "    </tr>\n",
       "  </tbody>\n",
       "</table>\n",
       "<p>5 rows × 26 columns</p>\n",
       "</div>"
      ],
      "text/plain": [
       "                               Company Name    company contact  \\\n",
       "0                            1 State Street      David Neiburg   \n",
       "1                            100 Church LLC  Edward A. Carroll   \n",
       "2                      100 Wall Investments       Jerry Branam   \n",
       "3               1-10 Bush Terminal Owner LP     Andrew Kimball   \n",
       "4  120 Broadway Acquisitions JV, LLC (Ldmk)        Carl Letich   \n",
       "\n",
       "               company email company phone                Address      City  \\\n",
       "0     eskoblo@energyspec.com    7186779077          1114 Avenue J  Brooklyn   \n",
       "1                        NaN    2125663000      100 Church Street        NY   \n",
       "2                        NaN    2122487160         96 Wall Street  New York   \n",
       "3  akimball@industrycity.com    3474178429  220 36th St, Suite 2A  Brooklyn   \n",
       "4      clettich@silvprop.com    2124064020           120 Broadway  New York   \n",
       "\n",
       "  State  Postcode    Industry  \\\n",
       "0    NY     11230  Commercial   \n",
       "1    NY     10007  Commercial   \n",
       "2    NY     10005    Landlord   \n",
       "3    NY     11232    Landlord   \n",
       "4    NY     10271  Commercial   \n",
       "\n",
       "                                      Industry descr  ...  \\\n",
       "0                                  35 story building  ...   \n",
       "1                                          21 Floors  ...   \n",
       "2                                                NaN  ...   \n",
       "3  Special Eligible Premises for eligible businesses  ...   \n",
       "4                                                NaN  ...   \n",
       "\n",
       "  Savings from beginning receiving benefits   Borough   Latitude  Longitude  \\\n",
       "0                                    349.78  Brooklyn  40.624784 -73.964920   \n",
       "1                                4423698.05  New York  40.712968 -74.009490   \n",
       "2                                1814542.62  New York  40.705052 -74.007199   \n",
       "3                                   6755.31  Brooklyn  40.656061 -74.007334   \n",
       "4                                3293055.08  New York  40.708546 -74.011041   \n",
       "\n",
       "  Community Board  Council District  Census Tract        BIN           BBL  \\\n",
       "0           314.0              44.0         534.0  3179818.0  3.067130e+09   \n",
       "1           101.0               1.0          21.0  1001409.0  1.001250e+09   \n",
       "2           101.0               1.0           7.0  1000875.0  1.000380e+09   \n",
       "3           307.0              38.0           2.0  3398687.0  3.006950e+09   \n",
       "4           101.0               1.0           7.0  1001026.0  1.000478e+09   \n",
       "\n",
       "                                      NTA  \n",
       "0                                 Midwood  \n",
       "1  SoHo-TriBeCa-Civic Center-Little Italy  \n",
       "2       Battery Park City-Lower Manhattan  \n",
       "3                        Sunset Park West  \n",
       "4       Battery Park City-Lower Manhattan  \n",
       "\n",
       "[5 rows x 26 columns]"
      ]
     },
     "execution_count": 5,
     "metadata": {},
     "output_type": "execute_result"
    }
   ],
   "source": [
    "vecsp_2020.head()"
   ]
  },
  {
   "cell_type": "code",
   "execution_count": 6,
   "metadata": {
    "colab": {
     "base_uri": "https://localhost:8080/"
    },
    "executionInfo": {
     "elapsed": 184,
     "status": "ok",
     "timestamp": 1652986452725,
     "user": {
      "displayName": "Chia-Hsuan Yang",
      "userId": "10923030406715246396"
     },
     "user_tz": 240
    },
    "id": "vc2KoQgdqt5E",
    "outputId": "21667557-cc66-474d-c52b-679be326c91c"
   },
   "outputs": [
    {
     "data": {
      "text/plain": [
       "Company Name                                  object\n",
       "company contact                               object\n",
       "company email                                 object\n",
       "company phone                                 object\n",
       "Address                                       object\n",
       "City                                          object\n",
       "State                                         object\n",
       "Postcode                                       int64\n",
       "Industry                                      object\n",
       "Industry descr                                object\n",
       "Company Type                                  object\n",
       "Current fulltime                             float64\n",
       "Job created                                  float64\n",
       "Job retain                                   float64\n",
       "Effective Date                                object\n",
       "Total Savings                                float64\n",
       "Savings from beginning receiving benefits    float64\n",
       "Borough                                       object\n",
       "Latitude                                     float64\n",
       "Longitude                                    float64\n",
       "Community Board                              float64\n",
       "Council District                             float64\n",
       "Census Tract                                 float64\n",
       "BIN                                          float64\n",
       "BBL                                          float64\n",
       "NTA                                           object\n",
       "dtype: object"
      ]
     },
     "execution_count": 6,
     "metadata": {},
     "output_type": "execute_result"
    }
   ],
   "source": [
    "vecsp_2020.dtypes"
   ]
  },
  {
   "cell_type": "code",
   "execution_count": 7,
   "metadata": {
    "colab": {
     "base_uri": "https://localhost:8080/"
    },
    "executionInfo": {
     "elapsed": 164,
     "status": "ok",
     "timestamp": 1652986802744,
     "user": {
      "displayName": "Chia-Hsuan Yang",
      "userId": "10923030406715246396"
     },
     "user_tz": 240
    },
    "id": "tBn0zzkbsMIW",
    "outputId": "2a07fdd1-0651-45e6-dbb0-acb1d1c570d1"
   },
   "outputs": [
    {
     "name": "stdout",
     "output_type": "stream",
     "text": [
      "<class 'pandas.core.frame.DataFrame'>\n",
      "RangeIndex: 450 entries, 0 to 449\n",
      "Data columns (total 26 columns):\n",
      " #   Column                                     Non-Null Count  Dtype  \n",
      "---  ------                                     --------------  -----  \n",
      " 0   Company Name                               450 non-null    object \n",
      " 1   company contact                            450 non-null    object \n",
      " 2   company email                              433 non-null    object \n",
      " 3   company phone                              450 non-null    object \n",
      " 4   Address                                    450 non-null    object \n",
      " 5   City                                       450 non-null    object \n",
      " 6   State                                      450 non-null    object \n",
      " 7   Postcode                                   450 non-null    int64  \n",
      " 8   Industry                                   450 non-null    object \n",
      " 9   Industry descr                             434 non-null    object \n",
      " 10  Company Type                               450 non-null    object \n",
      " 11  Current fulltime                           446 non-null    float64\n",
      " 12  Job created                                11 non-null     float64\n",
      " 13  Job retain                                 14 non-null     float64\n",
      " 14  Effective Date                             450 non-null    object \n",
      " 15  Total Savings                              450 non-null    float64\n",
      " 16  Savings from beginning receiving benefits  450 non-null    float64\n",
      " 17  Borough                                    450 non-null    object \n",
      " 18  Latitude                                   409 non-null    float64\n",
      " 19  Longitude                                  409 non-null    float64\n",
      " 20  Community Board                            409 non-null    float64\n",
      " 21  Council District                           409 non-null    float64\n",
      " 22  Census Tract                               409 non-null    float64\n",
      " 23  BIN                                        401 non-null    float64\n",
      " 24  BBL                                        401 non-null    float64\n",
      " 25  NTA                                        409 non-null    object \n",
      "dtypes: float64(12), int64(1), object(13)\n",
      "memory usage: 91.5+ KB\n"
     ]
    }
   ],
   "source": [
    "vecsp_2020.info()"
   ]
  },
  {
   "cell_type": "code",
   "execution_count": 8,
   "metadata": {
    "colab": {
     "base_uri": "https://localhost:8080/"
    },
    "executionInfo": {
     "elapsed": 158,
     "status": "ok",
     "timestamp": 1652987498105,
     "user": {
      "displayName": "Chia-Hsuan Yang",
      "userId": "10923030406715246396"
     },
     "user_tz": 240
    },
    "id": "AigMW4tQuz6L",
    "outputId": "81ff64ad-f804-48d2-bcc3-dc65a9556284"
   },
   "outputs": [
    {
     "data": {
      "text/plain": [
       "Company Name                                 False\n",
       "company contact                              False\n",
       "company email                                 True\n",
       "company phone                                False\n",
       "Address                                      False\n",
       "City                                         False\n",
       "State                                        False\n",
       "Postcode                                     False\n",
       "Industry                                     False\n",
       "Industry descr                                True\n",
       "Company Type                                 False\n",
       "Current fulltime                              True\n",
       "Job created                                   True\n",
       "Job retain                                    True\n",
       "Effective Date                               False\n",
       "Total Savings                                False\n",
       "Savings from beginning receiving benefits    False\n",
       "Borough                                      False\n",
       "Latitude                                      True\n",
       "Longitude                                     True\n",
       "Community Board                               True\n",
       "Council District                              True\n",
       "Census Tract                                  True\n",
       "BIN                                           True\n",
       "BBL                                           True\n",
       "NTA                                           True\n",
       "dtype: bool"
      ]
     },
     "execution_count": 8,
     "metadata": {},
     "output_type": "execute_result"
    }
   ],
   "source": [
    "vecsp_2020.isnull().any()"
   ]
  },
  {
   "cell_type": "code",
   "execution_count": 9,
   "metadata": {
    "colab": {
     "base_uri": "https://localhost:8080/",
     "height": 433
    },
    "executionInfo": {
     "elapsed": 170,
     "status": "ok",
     "timestamp": 1652989435843,
     "user": {
      "displayName": "Chia-Hsuan Yang",
      "userId": "10923030406715246396"
     },
     "user_tz": 240
    },
    "id": "hdxUWojL2IEm",
    "outputId": "204e381e-73f3-447e-c3b8-1bc9db9c35c9"
   },
   "outputs": [
    {
     "data": {
      "text/html": [
       "<div>\n",
       "<style scoped>\n",
       "    .dataframe tbody tr th:only-of-type {\n",
       "        vertical-align: middle;\n",
       "    }\n",
       "\n",
       "    .dataframe tbody tr th {\n",
       "        vertical-align: top;\n",
       "    }\n",
       "\n",
       "    .dataframe thead th {\n",
       "        text-align: right;\n",
       "    }\n",
       "</style>\n",
       "<table border=\"1\" class=\"dataframe\">\n",
       "  <thead>\n",
       "    <tr style=\"text-align: right;\">\n",
       "      <th></th>\n",
       "      <th>Postcode</th>\n",
       "      <th>Current fulltime</th>\n",
       "      <th>Job created</th>\n",
       "      <th>Job retain</th>\n",
       "      <th>Total Savings</th>\n",
       "      <th>Savings from beginning receiving benefits</th>\n",
       "      <th>Latitude</th>\n",
       "      <th>Longitude</th>\n",
       "      <th>Community Board</th>\n",
       "      <th>Council District</th>\n",
       "      <th>Census Tract</th>\n",
       "      <th>BIN</th>\n",
       "      <th>BBL</th>\n",
       "    </tr>\n",
       "  </thead>\n",
       "  <tbody>\n",
       "    <tr>\n",
       "      <th>count</th>\n",
       "      <td>450.000000</td>\n",
       "      <td>446.000000</td>\n",
       "      <td>11.000000</td>\n",
       "      <td>14.000000</td>\n",
       "      <td>4.500000e+02</td>\n",
       "      <td>4.500000e+02</td>\n",
       "      <td>409.000000</td>\n",
       "      <td>409.000000</td>\n",
       "      <td>409.000000</td>\n",
       "      <td>409.000000</td>\n",
       "      <td>409.000000</td>\n",
       "      <td>4.010000e+02</td>\n",
       "      <td>4.010000e+02</td>\n",
       "    </tr>\n",
       "    <tr>\n",
       "      <th>mean</th>\n",
       "      <td>11024.124444</td>\n",
       "      <td>124.186099</td>\n",
       "      <td>13.545455</td>\n",
       "      <td>297.500000</td>\n",
       "      <td>3.943778e+04</td>\n",
       "      <td>4.234601e+05</td>\n",
       "      <td>40.722293</td>\n",
       "      <td>-73.942376</td>\n",
       "      <td>317.982885</td>\n",
       "      <td>27.823961</td>\n",
       "      <td>2049.080685</td>\n",
       "      <td>3.295894e+06</td>\n",
       "      <td>3.163398e+09</td>\n",
       "    </tr>\n",
       "    <tr>\n",
       "      <th>std</th>\n",
       "      <td>405.126704</td>\n",
       "      <td>392.750810</td>\n",
       "      <td>16.409532</td>\n",
       "      <td>778.404655</td>\n",
       "      <td>1.345949e+05</td>\n",
       "      <td>1.936066e+06</td>\n",
       "      <td>0.057503</td>\n",
       "      <td>0.065553</td>\n",
       "      <td>93.925749</td>\n",
       "      <td>10.984316</td>\n",
       "      <td>7784.674799</td>\n",
       "      <td>9.897776e+05</td>\n",
       "      <td>9.483943e+08</td>\n",
       "    </tr>\n",
       "    <tr>\n",
       "      <th>min</th>\n",
       "      <td>10001.000000</td>\n",
       "      <td>0.000000</td>\n",
       "      <td>2.000000</td>\n",
       "      <td>4.000000</td>\n",
       "      <td>-1.099101e+05</td>\n",
       "      <td>0.000000e+00</td>\n",
       "      <td>40.555080</td>\n",
       "      <td>-74.216206</td>\n",
       "      <td>101.000000</td>\n",
       "      <td>1.000000</td>\n",
       "      <td>1.000000</td>\n",
       "      <td>1.000811e+06</td>\n",
       "      <td>1.000220e+09</td>\n",
       "    </tr>\n",
       "    <tr>\n",
       "      <th>25%</th>\n",
       "      <td>11101.000000</td>\n",
       "      <td>11.000000</td>\n",
       "      <td>4.000000</td>\n",
       "      <td>15.500000</td>\n",
       "      <td>1.770947e+03</td>\n",
       "      <td>1.498420e+04</td>\n",
       "      <td>40.676351</td>\n",
       "      <td>-73.984843</td>\n",
       "      <td>301.000000</td>\n",
       "      <td>26.000000</td>\n",
       "      <td>20.000000</td>\n",
       "      <td>3.009889e+06</td>\n",
       "      <td>3.006320e+09</td>\n",
       "    </tr>\n",
       "    <tr>\n",
       "      <th>50%</th>\n",
       "      <td>11205.000000</td>\n",
       "      <td>28.000000</td>\n",
       "      <td>10.000000</td>\n",
       "      <td>42.000000</td>\n",
       "      <td>6.101215e+03</td>\n",
       "      <td>5.431184e+04</td>\n",
       "      <td>40.721144</td>\n",
       "      <td>-73.941706</td>\n",
       "      <td>307.000000</td>\n",
       "      <td>30.000000</td>\n",
       "      <td>199.000000</td>\n",
       "      <td>3.336903e+06</td>\n",
       "      <td>3.036760e+09</td>\n",
       "    </tr>\n",
       "    <tr>\n",
       "      <th>75%</th>\n",
       "      <td>11232.000000</td>\n",
       "      <td>76.000000</td>\n",
       "      <td>13.500000</td>\n",
       "      <td>160.750000</td>\n",
       "      <td>2.025603e+04</td>\n",
       "      <td>2.003667e+05</td>\n",
       "      <td>40.752096</td>\n",
       "      <td>-73.909345</td>\n",
       "      <td>402.000000</td>\n",
       "      <td>36.000000</td>\n",
       "      <td>543.000000</td>\n",
       "      <td>4.005076e+06</td>\n",
       "      <td>4.003930e+09</td>\n",
       "    </tr>\n",
       "    <tr>\n",
       "      <th>max</th>\n",
       "      <td>11693.000000</td>\n",
       "      <td>3878.000000</td>\n",
       "      <td>60.000000</td>\n",
       "      <td>2964.000000</td>\n",
       "      <td>1.568982e+06</td>\n",
       "      <td>3.351826e+07</td>\n",
       "      <td>40.890837</td>\n",
       "      <td>-73.743730</td>\n",
       "      <td>503.000000</td>\n",
       "      <td>51.000000</td>\n",
       "      <td>94201.000000</td>\n",
       "      <td>5.168823e+06</td>\n",
       "      <td>5.070670e+09</td>\n",
       "    </tr>\n",
       "  </tbody>\n",
       "</table>\n",
       "</div>"
      ],
      "text/plain": [
       "           Postcode  Current fulltime  Job created   Job retain  \\\n",
       "count    450.000000        446.000000    11.000000    14.000000   \n",
       "mean   11024.124444        124.186099    13.545455   297.500000   \n",
       "std      405.126704        392.750810    16.409532   778.404655   \n",
       "min    10001.000000          0.000000     2.000000     4.000000   \n",
       "25%    11101.000000         11.000000     4.000000    15.500000   \n",
       "50%    11205.000000         28.000000    10.000000    42.000000   \n",
       "75%    11232.000000         76.000000    13.500000   160.750000   \n",
       "max    11693.000000       3878.000000    60.000000  2964.000000   \n",
       "\n",
       "       Total Savings  Savings from beginning receiving benefits    Latitude  \\\n",
       "count   4.500000e+02                               4.500000e+02  409.000000   \n",
       "mean    3.943778e+04                               4.234601e+05   40.722293   \n",
       "std     1.345949e+05                               1.936066e+06    0.057503   \n",
       "min    -1.099101e+05                               0.000000e+00   40.555080   \n",
       "25%     1.770947e+03                               1.498420e+04   40.676351   \n",
       "50%     6.101215e+03                               5.431184e+04   40.721144   \n",
       "75%     2.025603e+04                               2.003667e+05   40.752096   \n",
       "max     1.568982e+06                               3.351826e+07   40.890837   \n",
       "\n",
       "        Longitude  Community Board  Council District  Census Tract  \\\n",
       "count  409.000000       409.000000        409.000000    409.000000   \n",
       "mean   -73.942376       317.982885         27.823961   2049.080685   \n",
       "std      0.065553        93.925749         10.984316   7784.674799   \n",
       "min    -74.216206       101.000000          1.000000      1.000000   \n",
       "25%    -73.984843       301.000000         26.000000     20.000000   \n",
       "50%    -73.941706       307.000000         30.000000    199.000000   \n",
       "75%    -73.909345       402.000000         36.000000    543.000000   \n",
       "max    -73.743730       503.000000         51.000000  94201.000000   \n",
       "\n",
       "                BIN           BBL  \n",
       "count  4.010000e+02  4.010000e+02  \n",
       "mean   3.295894e+06  3.163398e+09  \n",
       "std    9.897776e+05  9.483943e+08  \n",
       "min    1.000811e+06  1.000220e+09  \n",
       "25%    3.009889e+06  3.006320e+09  \n",
       "50%    3.336903e+06  3.036760e+09  \n",
       "75%    4.005076e+06  4.003930e+09  \n",
       "max    5.168823e+06  5.070670e+09  "
      ]
     },
     "execution_count": 9,
     "metadata": {},
     "output_type": "execute_result"
    }
   ],
   "source": [
    "vecsp_2020.describe()"
   ]
  },
  {
   "cell_type": "markdown",
   "metadata": {
    "id": "2CvgHmgksbhb"
   },
   "source": [
    "#### How many different companies are represented in the data set?"
   ]
  },
  {
   "cell_type": "code",
   "execution_count": 10,
   "metadata": {
    "colab": {
     "base_uri": "https://localhost:8080/"
    },
    "executionInfo": {
     "elapsed": 135,
     "status": "ok",
     "timestamp": 1652987212850,
     "user": {
      "displayName": "Chia-Hsuan Yang",
      "userId": "10923030406715246396"
     },
     "user_tz": 240
    },
    "id": "FxZmG8Z_svXS",
    "outputId": "723aad8c-c0c2-4004-8160-6c4a45a9c63c"
   },
   "outputs": [
    {
     "name": "stdout",
     "output_type": "stream",
     "text": [
      "450\n",
      "439\n"
     ]
    }
   ],
   "source": [
    "print(vecsp_2020['Company Name'].count())\n",
    "print(vecsp_2020['Company Name'].nunique())\n"
   ]
  },
  {
   "cell_type": "markdown",
   "metadata": {
    "id": "8g3_29dnsbrl"
   },
   "source": [
    "#### What is the total number of jobs created for businesses in Queens?"
   ]
  },
  {
   "cell_type": "code",
   "execution_count": 11,
   "metadata": {
    "colab": {
     "base_uri": "https://localhost:8080/"
    },
    "executionInfo": {
     "elapsed": 157,
     "status": "ok",
     "timestamp": 1652990178577,
     "user": {
      "displayName": "Chia-Hsuan Yang",
      "userId": "10923030406715246396"
     },
     "user_tz": 240
    },
    "id": "6_LpRjOUswHb",
    "outputId": "a2e5276b-31dc-4ef1-ea2c-850dfd8a8114"
   },
   "outputs": [
    {
     "data": {
      "text/plain": [
       "102.0"
      ]
     },
     "execution_count": 11,
     "metadata": {},
     "output_type": "execute_result"
    }
   ],
   "source": [
    "vecsp_2020.loc[(vecsp_2020['Borough']==\"Queens\") | (vecsp_2020['Borough']==\"Qn\"), \"Job created\"].sum()\n",
    "\n"
   ]
  },
  {
   "cell_type": "markdown",
   "metadata": {
    "id": "pQf6Fcmusbz7"
   },
   "source": [
    "#### How many different unique email domains names are there in the data set?"
   ]
  },
  {
   "cell_type": "code",
   "execution_count": 12,
   "metadata": {
    "colab": {
     "base_uri": "https://localhost:8080/"
    },
    "executionInfo": {
     "elapsed": 137,
     "status": "ok",
     "timestamp": 1652989866088,
     "user": {
      "displayName": "Chia-Hsuan Yang",
      "userId": "10923030406715246396"
     },
     "user_tz": 240
    },
    "id": "fXk77jNcswoH",
    "outputId": "3e5698d2-ca0f-41a8-d57e-b063b264433c"
   },
   "outputs": [
    {
     "data": {
      "text/plain": [
       "356"
      ]
     },
     "execution_count": 12,
     "metadata": {},
     "output_type": "execute_result"
    }
   ],
   "source": [
    "vecsp_2020['company email'].str.split('@').str.get(1).nunique()"
   ]
  },
  {
   "cell_type": "markdown",
   "metadata": {
    "id": "9c8DSgRmsb8S"
   },
   "source": [
    "#### Considering only NTAs with at least 5 listed businesses, what is the average total savings and the total jobs created for each NTA?"
   ]
  },
  {
   "cell_type": "code",
   "execution_count": 13,
   "metadata": {
    "colab": {
     "base_uri": "https://localhost:8080/"
    },
    "executionInfo": {
     "elapsed": 143,
     "status": "ok",
     "timestamp": 1652993457396,
     "user": {
      "displayName": "Chia-Hsuan Yang",
      "userId": "10923030406715246396"
     },
     "user_tz": 240
    },
    "id": "aFYwaFZYsxJi",
    "outputId": "4bf84965-4b92-4021-da74-69804c056aaf"
   },
   "outputs": [
    {
     "name": "stdout",
     "output_type": "stream",
     "text": [
      "                                                 Company Name  Total Savings  \\\n",
      "                                                        count           mean   \n",
      "NTA                                                                            \n",
      "Battery Park City-Lower Manhattan                           9  469890.796667   \n",
      "Bushwick South                                             10   26140.455000   \n",
      "Carroll Gardens-Columbia Street-Red Hook                   11   24337.390000   \n",
      "College Point                                               7   17159.372857   \n",
      "Crown Heights North                                         9    4036.298889   \n",
      "DUMBO-Vinegar Hill-Downtown Brooklyn-Boerum Hill           10   59950.340000   \n",
      "East New York                                               9   48433.093333   \n",
      "East Williamsburg                                          11   13990.626364   \n",
      "Greenpoint                                                 14    9753.649286   \n",
      "Hunters Point-Sunnyside-West Maspeth                       75   23931.398933   \n",
      "Hunts Point                                                13   39246.016154   \n",
      "Manhattanville                                              9    2760.888889   \n",
      "Maspeth                                                     9    6658.283333   \n",
      "Mott Haven-Port Morris                                     14   17843.937857   \n",
      "Queensbridge-Ravenswood-Long Island City                   16   61830.770625   \n",
      "SoHo-TriBeCa-Civic Center-Little Italy                      5   37214.024000   \n",
      "Springfield Gardens South-Brookville                        5   17757.662000   \n",
      "Steinway                                                    7   11227.155714   \n",
      "Sunset Park West                                           48   14316.976875   \n",
      "park-cemetery-etc-Brooklyn                                 15   14327.419333   \n",
      "\n",
      "                                                 Job created  \n",
      "                                                         sum  \n",
      "NTA                                                           \n",
      "Battery Park City-Lower Manhattan                        0.0  \n",
      "Bushwick South                                          10.0  \n",
      "Carroll Gardens-Columbia Street-Red Hook                 0.0  \n",
      "College Point                                            2.0  \n",
      "Crown Heights North                                      0.0  \n",
      "DUMBO-Vinegar Hill-Downtown Brooklyn-Boerum Hill         0.0  \n",
      "East New York                                           15.0  \n",
      "East Williamsburg                                        0.0  \n",
      "Greenpoint                                               0.0  \n",
      "Hunters Point-Sunnyside-West Maspeth                     0.0  \n",
      "Hunts Point                                             12.0  \n",
      "Manhattanville                                           0.0  \n",
      "Maspeth                                                 10.0  \n",
      "Mott Haven-Port Morris                                  10.0  \n",
      "Queensbridge-Ravenswood-Long Island City                 0.0  \n",
      "SoHo-TriBeCa-Civic Center-Little Italy                   0.0  \n",
      "Springfield Gardens South-Brookville                     0.0  \n",
      "Steinway                                                20.0  \n",
      "Sunset Park West                                         0.0  \n",
      "park-cemetery-etc-Brooklyn                               0.0  \n"
     ]
    }
   ],
   "source": [
    "NTAs = vecsp_2020.groupby(['NTA']).filter(lambda x: x['Company Name'].count()>4).groupby(['NTA']).aggregate({'Company Name':['count'], 'Total Savings':['mean'], 'Job created':['sum']})\n",
    "print(NTAs)"
   ]
  },
  {
   "cell_type": "markdown",
   "metadata": {
    "id": "Rj62KfNWscDy"
   },
   "source": [
    "#### Save your result for the previous question as a CSV file."
   ]
  },
  {
   "cell_type": "code",
   "execution_count": 14,
   "metadata": {
    "colab": {
     "base_uri": "https://localhost:8080/"
    },
    "executionInfo": {
     "elapsed": 140,
     "status": "ok",
     "timestamp": 1652993562982,
     "user": {
      "displayName": "Chia-Hsuan Yang",
      "userId": "10923030406715246396"
     },
     "user_tz": 240
    },
    "id": "lWO_qmwssxqw",
    "outputId": "536fd2c8-e9ad-451d-d3f5-cf62b965cbb3"
   },
   "outputs": [
    {
     "name": "stdout",
     "output_type": "stream",
     "text": [
      "<class 'pandas.core.frame.DataFrame'>\n",
      "Index: 20 entries, Battery Park City-Lower Manhattan to park-cemetery-etc-Brooklyn\n",
      "Data columns (total 3 columns):\n",
      " #   Column                 Non-Null Count  Dtype  \n",
      "---  ------                 --------------  -----  \n",
      " 0   (Company Name, count)  20 non-null     int64  \n",
      " 1   (Total Savings, mean)  20 non-null     float64\n",
      " 2   (Job created, sum)     20 non-null     float64\n",
      "dtypes: float64(2), int64(1)\n",
      "memory usage: 640.0+ bytes\n"
     ]
    }
   ],
   "source": [
    "NTAs.info()"
   ]
  },
  {
   "cell_type": "code",
   "execution_count": 16,
   "metadata": {
    "executionInfo": {
     "elapsed": 149,
     "status": "ok",
     "timestamp": 1652993876363,
     "user": {
      "displayName": "Chia-Hsuan Yang",
      "userId": "10923030406715246396"
     },
     "user_tz": 240
    },
    "id": "DsWPhVTBGDU1"
   },
   "outputs": [],
   "source": [
    "NTAs.to_csv('NTAs_AvgSaving_TotalJobs.csv')"
   ]
  }
 ],
 "metadata": {
  "colab": {
   "authorship_tag": "ABX9TyMkXcRKrVSDXNbs+ZCf7WRw",
   "name": "TDI_12Days_Day4-Pandas.ipynb",
   "provenance": []
  },
  "kernelspec": {
   "display_name": "Python 3 (ipykernel)",
   "language": "python",
   "name": "python3"
  },
  "language_info": {
   "codemirror_mode": {
    "name": "ipython",
    "version": 3
   },
   "file_extension": ".py",
   "mimetype": "text/x-python",
   "name": "python",
   "nbconvert_exporter": "python",
   "pygments_lexer": "ipython3",
   "version": "3.9.9"
  }
 },
 "nbformat": 4,
 "nbformat_minor": 4
}
